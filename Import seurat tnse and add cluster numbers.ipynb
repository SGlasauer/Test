{
 "cells": [
  {
   "cell_type": "code",
   "execution_count": 2,
   "metadata": {},
   "outputs": [],
   "source": [
    "datadir = \"/home/ucsd-train13/scratch/projects/organoids/results/processed_files/\""
   ]
  },
  {
   "cell_type": "code",
   "execution_count": 1,
   "metadata": {},
   "outputs": [],
   "source": [
    "import pandas as pd"
   ]
  },
  {
   "cell_type": "code",
   "execution_count": 9,
   "metadata": {},
   "outputs": [
    {
     "name": "stdout",
     "output_type": "stream",
     "text": [
      "(5882, 2)\n"
     ]
    },
    {
     "data": {
      "text/html": [
       "<div>\n",
       "<style scoped>\n",
       "    .dataframe tbody tr th:only-of-type {\n",
       "        vertical-align: middle;\n",
       "    }\n",
       "\n",
       "    .dataframe tbody tr th {\n",
       "        vertical-align: top;\n",
       "    }\n",
       "\n",
       "    .dataframe thead th {\n",
       "        text-align: right;\n",
       "    }\n",
       "</style>\n",
       "<table border=\"1\" class=\"dataframe\">\n",
       "  <thead>\n",
       "    <tr style=\"text-align: right;\">\n",
       "      <th></th>\n",
       "      <th>tSNE_1</th>\n",
       "      <th>tSNE_2</th>\n",
       "    </tr>\n",
       "  </thead>\n",
       "  <tbody>\n",
       "    <tr>\n",
       "      <th>FBWT2_CAGGCATCTCCG</th>\n",
       "      <td>31.207150</td>\n",
       "      <td>-5.725025</td>\n",
       "    </tr>\n",
       "    <tr>\n",
       "      <th>FBWT2_TCACCAGTCTCG</th>\n",
       "      <td>30.859085</td>\n",
       "      <td>-6.512976</td>\n",
       "    </tr>\n",
       "    <tr>\n",
       "      <th>FBWT2_CCCGAGTCATAC</th>\n",
       "      <td>29.433782</td>\n",
       "      <td>2.847076</td>\n",
       "    </tr>\n",
       "    <tr>\n",
       "      <th>FBWT2_CGCTTACGTCTT</th>\n",
       "      <td>32.965939</td>\n",
       "      <td>-5.336755</td>\n",
       "    </tr>\n",
       "    <tr>\n",
       "      <th>FBWT2_TTCCATATAGCT</th>\n",
       "      <td>31.505211</td>\n",
       "      <td>-4.898120</td>\n",
       "    </tr>\n",
       "  </tbody>\n",
       "</table>\n",
       "</div>"
      ],
      "text/plain": [
       "                       tSNE_1    tSNE_2\n",
       "FBWT2_CAGGCATCTCCG  31.207150 -5.725025\n",
       "FBWT2_TCACCAGTCTCG  30.859085 -6.512976\n",
       "FBWT2_CCCGAGTCATAC  29.433782  2.847076\n",
       "FBWT2_CGCTTACGTCTT  32.965939 -5.336755\n",
       "FBWT2_TTCCATATAGCT  31.505211 -4.898120"
      ]
     },
     "execution_count": 9,
     "metadata": {},
     "output_type": "execute_result"
    }
   ],
   "source": [
    "tsne = pd.read_csv(datadir+\"tsne_from_Seurat.csv\", index_col=0)\n",
    "print(tsne.shape)\n",
    "tsne.head()"
   ]
  },
  {
   "cell_type": "code",
   "execution_count": 10,
   "metadata": {},
   "outputs": [
    {
     "name": "stdout",
     "output_type": "stream",
     "text": [
      "(5882, 1)\n"
     ]
    },
    {
     "data": {
      "text/html": [
       "<div>\n",
       "<style scoped>\n",
       "    .dataframe tbody tr th:only-of-type {\n",
       "        vertical-align: middle;\n",
       "    }\n",
       "\n",
       "    .dataframe tbody tr th {\n",
       "        vertical-align: top;\n",
       "    }\n",
       "\n",
       "    .dataframe thead th {\n",
       "        text-align: right;\n",
       "    }\n",
       "</style>\n",
       "<table border=\"1\" class=\"dataframe\">\n",
       "  <thead>\n",
       "    <tr style=\"text-align: right;\">\n",
       "      <th></th>\n",
       "      <th>x</th>\n",
       "    </tr>\n",
       "  </thead>\n",
       "  <tbody>\n",
       "    <tr>\n",
       "      <th>1</th>\n",
       "      <td>5</td>\n",
       "    </tr>\n",
       "    <tr>\n",
       "      <th>2</th>\n",
       "      <td>5</td>\n",
       "    </tr>\n",
       "    <tr>\n",
       "      <th>3</th>\n",
       "      <td>5</td>\n",
       "    </tr>\n",
       "    <tr>\n",
       "      <th>4</th>\n",
       "      <td>5</td>\n",
       "    </tr>\n",
       "    <tr>\n",
       "      <th>5</th>\n",
       "      <td>5</td>\n",
       "    </tr>\n",
       "  </tbody>\n",
       "</table>\n",
       "</div>"
      ],
      "text/plain": [
       "   x\n",
       "1  5\n",
       "2  5\n",
       "3  5\n",
       "4  5\n",
       "5  5"
      ]
     },
     "execution_count": 10,
     "metadata": {},
     "output_type": "execute_result"
    }
   ],
   "source": [
    "clusters = pd.read_csv(datadir+\"clusterassignment.csv\", index_col=0)\n",
    "print(clusters.shape)\n",
    "clusters.head()"
   ]
  },
  {
   "cell_type": "code",
   "execution_count": 12,
   "metadata": {},
   "outputs": [
    {
     "data": {
      "text/plain": [
       "1        5\n",
       "2        5\n",
       "3        5\n",
       "4        5\n",
       "5        5\n",
       "6        8\n",
       "7        8\n",
       "8        5\n",
       "9        8\n",
       "10       5\n",
       "11       4\n",
       "12       8\n",
       "13       5\n",
       "14       5\n",
       "15       8\n",
       "16       5\n",
       "17       5\n",
       "18       5\n",
       "19       4\n",
       "20       5\n",
       "21       5\n",
       "22       5\n",
       "23       5\n",
       "24       5\n",
       "25       5\n",
       "26       5\n",
       "27       5\n",
       "28       8\n",
       "29       4\n",
       "30       5\n",
       "        ..\n",
       "5853     6\n",
       "5854     9\n",
       "5855     0\n",
       "5856     0\n",
       "5857     0\n",
       "5858    12\n",
       "5859    10\n",
       "5860    14\n",
       "5861     6\n",
       "5862     9\n",
       "5863     6\n",
       "5864     6\n",
       "5865     2\n",
       "5866     0\n",
       "5867     0\n",
       "5868    10\n",
       "5869    14\n",
       "5870    12\n",
       "5871    10\n",
       "5872     0\n",
       "5873     6\n",
       "5874     2\n",
       "5875     3\n",
       "5876    11\n",
       "5877    12\n",
       "5878     2\n",
       "5879     2\n",
       "5880    10\n",
       "5881     0\n",
       "5882     6\n",
       "Name: x, Length: 5882, dtype: int64"
      ]
     },
     "execution_count": 12,
     "metadata": {},
     "output_type": "execute_result"
    }
   ],
   "source": [
    "clusters[\"x\"]"
   ]
  },
  {
   "cell_type": "code",
   "execution_count": 13,
   "metadata": {},
   "outputs": [
    {
     "name": "stdout",
     "output_type": "stream",
     "text": [
      "(5882, 3)\n"
     ]
    },
    {
     "data": {
      "text/html": [
       "<div>\n",
       "<style scoped>\n",
       "    .dataframe tbody tr th:only-of-type {\n",
       "        vertical-align: middle;\n",
       "    }\n",
       "\n",
       "    .dataframe tbody tr th {\n",
       "        vertical-align: top;\n",
       "    }\n",
       "\n",
       "    .dataframe thead th {\n",
       "        text-align: right;\n",
       "    }\n",
       "</style>\n",
       "<table border=\"1\" class=\"dataframe\">\n",
       "  <thead>\n",
       "    <tr style=\"text-align: right;\">\n",
       "      <th></th>\n",
       "      <th>tSNE_1</th>\n",
       "      <th>tSNE_2</th>\n",
       "      <th>cluster</th>\n",
       "    </tr>\n",
       "  </thead>\n",
       "  <tbody>\n",
       "    <tr>\n",
       "      <th>FBWT2_CAGGCATCTCCG</th>\n",
       "      <td>31.207150</td>\n",
       "      <td>-5.725025</td>\n",
       "      <td>5</td>\n",
       "    </tr>\n",
       "    <tr>\n",
       "      <th>FBWT2_TCACCAGTCTCG</th>\n",
       "      <td>30.859085</td>\n",
       "      <td>-6.512976</td>\n",
       "      <td>5</td>\n",
       "    </tr>\n",
       "    <tr>\n",
       "      <th>FBWT2_CCCGAGTCATAC</th>\n",
       "      <td>29.433782</td>\n",
       "      <td>2.847076</td>\n",
       "      <td>5</td>\n",
       "    </tr>\n",
       "    <tr>\n",
       "      <th>FBWT2_CGCTTACGTCTT</th>\n",
       "      <td>32.965939</td>\n",
       "      <td>-5.336755</td>\n",
       "      <td>5</td>\n",
       "    </tr>\n",
       "    <tr>\n",
       "      <th>FBWT2_TTCCATATAGCT</th>\n",
       "      <td>31.505211</td>\n",
       "      <td>-4.898120</td>\n",
       "      <td>5</td>\n",
       "    </tr>\n",
       "  </tbody>\n",
       "</table>\n",
       "</div>"
      ],
      "text/plain": [
       "                       tSNE_1    tSNE_2  cluster\n",
       "FBWT2_CAGGCATCTCCG  31.207150 -5.725025        5\n",
       "FBWT2_TCACCAGTCTCG  30.859085 -6.512976        5\n",
       "FBWT2_CCCGAGTCATAC  29.433782  2.847076        5\n",
       "FBWT2_CGCTTACGTCTT  32.965939 -5.336755        5\n",
       "FBWT2_TTCCATATAGCT  31.505211 -4.898120        5"
      ]
     },
     "execution_count": 13,
     "metadata": {},
     "output_type": "execute_result"
    }
   ],
   "source": [
    "tsne[\"cluster\"]=clusters[\"x\"].values\n",
    "print(tsne.shape)\n",
    "tsne.head()"
   ]
  },
  {
   "cell_type": "code",
   "execution_count": 14,
   "metadata": {},
   "outputs": [
    {
     "data": {
      "text/html": [
       "<div>\n",
       "<style scoped>\n",
       "    .dataframe tbody tr th:only-of-type {\n",
       "        vertical-align: middle;\n",
       "    }\n",
       "\n",
       "    .dataframe tbody tr th {\n",
       "        vertical-align: top;\n",
       "    }\n",
       "\n",
       "    .dataframe thead th {\n",
       "        text-align: right;\n",
       "    }\n",
       "</style>\n",
       "<table border=\"1\" class=\"dataframe\">\n",
       "  <thead>\n",
       "    <tr style=\"text-align: right;\">\n",
       "      <th></th>\n",
       "      <th>index</th>\n",
       "      <th>tSNE_1</th>\n",
       "      <th>tSNE_2</th>\n",
       "      <th>cluster</th>\n",
       "    </tr>\n",
       "  </thead>\n",
       "  <tbody>\n",
       "    <tr>\n",
       "      <th>0</th>\n",
       "      <td>FBWT2_CAGGCATCTCCG</td>\n",
       "      <td>31.207150</td>\n",
       "      <td>-5.725025</td>\n",
       "      <td>5</td>\n",
       "    </tr>\n",
       "    <tr>\n",
       "      <th>1</th>\n",
       "      <td>FBWT2_TCACCAGTCTCG</td>\n",
       "      <td>30.859085</td>\n",
       "      <td>-6.512976</td>\n",
       "      <td>5</td>\n",
       "    </tr>\n",
       "    <tr>\n",
       "      <th>2</th>\n",
       "      <td>FBWT2_CCCGAGTCATAC</td>\n",
       "      <td>29.433782</td>\n",
       "      <td>2.847076</td>\n",
       "      <td>5</td>\n",
       "    </tr>\n",
       "    <tr>\n",
       "      <th>3</th>\n",
       "      <td>FBWT2_CGCTTACGTCTT</td>\n",
       "      <td>32.965939</td>\n",
       "      <td>-5.336755</td>\n",
       "      <td>5</td>\n",
       "    </tr>\n",
       "    <tr>\n",
       "      <th>4</th>\n",
       "      <td>FBWT2_TTCCATATAGCT</td>\n",
       "      <td>31.505211</td>\n",
       "      <td>-4.898120</td>\n",
       "      <td>5</td>\n",
       "    </tr>\n",
       "  </tbody>\n",
       "</table>\n",
       "</div>"
      ],
      "text/plain": [
       "                index     tSNE_1    tSNE_2  cluster\n",
       "0  FBWT2_CAGGCATCTCCG  31.207150 -5.725025        5\n",
       "1  FBWT2_TCACCAGTCTCG  30.859085 -6.512976        5\n",
       "2  FBWT2_CCCGAGTCATAC  29.433782  2.847076        5\n",
       "3  FBWT2_CGCTTACGTCTT  32.965939 -5.336755        5\n",
       "4  FBWT2_TTCCATATAGCT  31.505211 -4.898120        5"
      ]
     },
     "execution_count": 14,
     "metadata": {},
     "output_type": "execute_result"
    }
   ],
   "source": [
    "temp = tsne.reset_index()\n",
    "temp.head()"
   ]
  },
  {
   "cell_type": "code",
   "execution_count": 17,
   "metadata": {},
   "outputs": [
    {
     "name": "stdout",
     "output_type": "stream",
     "text": [
      "(5882, 4)\n"
     ]
    },
    {
     "data": {
      "text/html": [
       "<div>\n",
       "<style scoped>\n",
       "    .dataframe tbody tr th:only-of-type {\n",
       "        vertical-align: middle;\n",
       "    }\n",
       "\n",
       "    .dataframe tbody tr th {\n",
       "        vertical-align: top;\n",
       "    }\n",
       "\n",
       "    .dataframe thead th {\n",
       "        text-align: right;\n",
       "    }\n",
       "</style>\n",
       "<table border=\"1\" class=\"dataframe\">\n",
       "  <thead>\n",
       "    <tr style=\"text-align: right;\">\n",
       "      <th></th>\n",
       "      <th>tSNE_1</th>\n",
       "      <th>tSNE_2</th>\n",
       "      <th>cluster</th>\n",
       "      <th>sample</th>\n",
       "    </tr>\n",
       "  </thead>\n",
       "  <tbody>\n",
       "    <tr>\n",
       "      <th>FBWT2_CAGGCATCTCCG</th>\n",
       "      <td>31.207150</td>\n",
       "      <td>-5.725025</td>\n",
       "      <td>5</td>\n",
       "      <td>FBWT2</td>\n",
       "    </tr>\n",
       "    <tr>\n",
       "      <th>FBWT2_TCACCAGTCTCG</th>\n",
       "      <td>30.859085</td>\n",
       "      <td>-6.512976</td>\n",
       "      <td>5</td>\n",
       "      <td>FBWT2</td>\n",
       "    </tr>\n",
       "    <tr>\n",
       "      <th>FBWT2_CCCGAGTCATAC</th>\n",
       "      <td>29.433782</td>\n",
       "      <td>2.847076</td>\n",
       "      <td>5</td>\n",
       "      <td>FBWT2</td>\n",
       "    </tr>\n",
       "    <tr>\n",
       "      <th>FBWT2_CGCTTACGTCTT</th>\n",
       "      <td>32.965939</td>\n",
       "      <td>-5.336755</td>\n",
       "      <td>5</td>\n",
       "      <td>FBWT2</td>\n",
       "    </tr>\n",
       "    <tr>\n",
       "      <th>FBWT2_TTCCATATAGCT</th>\n",
       "      <td>31.505211</td>\n",
       "      <td>-4.898120</td>\n",
       "      <td>5</td>\n",
       "      <td>FBWT2</td>\n",
       "    </tr>\n",
       "  </tbody>\n",
       "</table>\n",
       "</div>"
      ],
      "text/plain": [
       "                       tSNE_1    tSNE_2  cluster sample\n",
       "FBWT2_CAGGCATCTCCG  31.207150 -5.725025        5  FBWT2\n",
       "FBWT2_TCACCAGTCTCG  30.859085 -6.512976        5  FBWT2\n",
       "FBWT2_CCCGAGTCATAC  29.433782  2.847076        5  FBWT2\n",
       "FBWT2_CGCTTACGTCTT  32.965939 -5.336755        5  FBWT2\n",
       "FBWT2_TTCCATATAGCT  31.505211 -4.898120        5  FBWT2"
      ]
     },
     "execution_count": 17,
     "metadata": {},
     "output_type": "execute_result"
    }
   ],
   "source": [
    "tsne[\"sample\"] = temp[\"index\"].apply(lambda x:x.split(\"_\")[0]).values\n",
    "print(tsne.shape)\n",
    "tsne.head()"
   ]
  },
  {
   "cell_type": "code",
   "execution_count": 18,
   "metadata": {},
   "outputs": [],
   "source": [
    "tsne.to_csv(datadir+\"tsne_from_Seurat.csv\")"
   ]
  },
  {
   "cell_type": "code",
   "execution_count": null,
   "metadata": {},
   "outputs": [],
   "source": []
  }
 ],
 "metadata": {
  "kernelspec": {
   "display_name": "py3_cshl",
   "language": "python",
   "name": "python3"
  },
  "language_info": {
   "codemirror_mode": {
    "name": "ipython",
    "version": 3
   },
   "file_extension": ".py",
   "mimetype": "text/x-python",
   "name": "python",
   "nbconvert_exporter": "python",
   "pygments_lexer": "ipython3",
   "version": "3.6.6"
  }
 },
 "nbformat": 4,
 "nbformat_minor": 2
}
