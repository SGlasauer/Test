{
 "cells": [
  {
   "cell_type": "code",
   "execution_count": 1,
   "metadata": {},
   "outputs": [],
   "source": [
    "import pandas as pd\n",
    "import seaborn as sns\n",
    "\n",
    "# Lets us import sparse matrices\n",
    "import scipy.io\n",
    "import scipy.sparse\n",
    "import csv\n",
    "\n",
    "\n",
    "#from lets us import only a part of that package rather than the entire thing. \n",
    "#We only need the pyplot section of matplotlib so we are only importing that.\n",
    "from matplotlib import pyplot as plt\n",
    "\n",
    "#In order for plots to appear in the notebook we need this:\n",
    "%matplotlib inline"
   ]
  },
  {
   "cell_type": "code",
   "execution_count": 2,
   "metadata": {},
   "outputs": [
    {
     "data": {
      "text/plain": [
       "'/home/ucsd-train13/scratch/projects/organoids/results/13_DigitalExpression/'"
      ]
     },
     "execution_count": 2,
     "metadata": {},
     "output_type": "execute_result"
    }
   ],
   "source": [
    "data_dir = \"/home/ucsd-train13/scratch/projects/organoids/results/13_DigitalExpression/\"\n",
    "#Take a look at the string stored in the data_dir variable\n",
    "data_dir\n",
    "#prints out data_dir because it is the last line in the cell"
   ]
  },
  {
   "cell_type": "code",
   "execution_count": 3,
   "metadata": {},
   "outputs": [],
   "source": [
    "#define function we are going to use later\n",
    "def read_mtx_as_dataframe(mtx_file, columns_file, rows_file):\n",
    "    \"\"\"\n",
    "    Reads a mtx file and returns a pandas dataframe.\n",
    "    \n",
    "    :param mtx_file: sparse matrix\n",
    "    :param columns_file: tab-separated file containing column names\n",
    "    :param rows_file: tab-separated file containing row names\n",
    "    \n",
    "    :return df: Pandas.DataFrame()\n",
    "    \"\"\"\n",
    "    mat = scipy.io.mmread(mtx_file)\n",
    "    columns = [\n",
    "        row[0] for row in csv.reader(open(columns_file), delimiter=\"\\t\")\n",
    "    ]\n",
    "    rows = [\n",
    "        row[0] for row in csv.reader(open(rows_file), delimiter=\"\\t\")\n",
    "    ]\n",
    "    df = pd.DataFrame(mat.todense(), columns=columns, index=rows)\n",
    "    return df"
   ]
  },
  {
   "cell_type": "code",
   "execution_count": 4,
   "metadata": {},
   "outputs": [
    {
     "data": {
      "text/plain": [
       "'/home/ucsd-train13/scratch/projects/organoids/results/13_DigitalExpression/matrix_all.csv'"
      ]
     },
     "execution_count": 4,
     "metadata": {},
     "output_type": "execute_result"
    }
   ],
   "source": [
    "counts_file = data_dir+\"matrix_all.csv\"\n",
    "counts_file"
   ]
  },
  {
   "cell_type": "code",
   "execution_count": 5,
   "metadata": {},
   "outputs": [
    {
     "name": "stdout",
     "output_type": "stream",
     "text": [
      "(23049, 12000)\n"
     ]
    },
    {
     "data": {
      "text/html": [
       "<div>\n",
       "<style scoped>\n",
       "    .dataframe tbody tr th:only-of-type {\n",
       "        vertical-align: middle;\n",
       "    }\n",
       "\n",
       "    .dataframe tbody tr th {\n",
       "        vertical-align: top;\n",
       "    }\n",
       "\n",
       "    .dataframe thead th {\n",
       "        text-align: right;\n",
       "    }\n",
       "</style>\n",
       "<table border=\"1\" class=\"dataframe\">\n",
       "  <thead>\n",
       "    <tr style=\"text-align: right;\">\n",
       "      <th></th>\n",
       "      <th>FBWT2_CAGGCATCTCCG</th>\n",
       "      <th>FBWT2_TCACCAGTCTCG</th>\n",
       "      <th>FBWT2_CCCGAGTCATAC</th>\n",
       "      <th>FBWT2_CGCTTACGTCTT</th>\n",
       "      <th>FBWT2_TTCCATATAGCT</th>\n",
       "      <th>FBWT2_TCCCGACCATAA</th>\n",
       "      <th>FBWT2_TAGTGATTATCA</th>\n",
       "      <th>FBWT2_GCCTCCATCGTT</th>\n",
       "      <th>FBWT2_GTACGATCAAGC</th>\n",
       "      <th>FBWT2_TAAACGTCACGG</th>\n",
       "      <th>...</th>\n",
       "      <th>FBIVS2_CTGTGACTATTG</th>\n",
       "      <th>FBIVS2_GTAGAGGTCCCT</th>\n",
       "      <th>FBIVS2_TCAACAAATTCT</th>\n",
       "      <th>FBIVS2_TCCTACGAGAGC</th>\n",
       "      <th>FBIVS2_CGGGATCATCAA</th>\n",
       "      <th>FBIVS2_GCGATAATCTGG</th>\n",
       "      <th>FBIVS2_GATTATCTACTT</th>\n",
       "      <th>FBIVS2_GATTCAAACTTG</th>\n",
       "      <th>FBIVS2_TGCTGAATATTG</th>\n",
       "      <th>FBIVS2_AGTATATTTACT</th>\n",
       "    </tr>\n",
       "    <tr>\n",
       "      <th>GENE</th>\n",
       "      <th></th>\n",
       "      <th></th>\n",
       "      <th></th>\n",
       "      <th></th>\n",
       "      <th></th>\n",
       "      <th></th>\n",
       "      <th></th>\n",
       "      <th></th>\n",
       "      <th></th>\n",
       "      <th></th>\n",
       "      <th></th>\n",
       "      <th></th>\n",
       "      <th></th>\n",
       "      <th></th>\n",
       "      <th></th>\n",
       "      <th></th>\n",
       "      <th></th>\n",
       "      <th></th>\n",
       "      <th></th>\n",
       "      <th></th>\n",
       "      <th></th>\n",
       "    </tr>\n",
       "  </thead>\n",
       "  <tbody>\n",
       "    <tr>\n",
       "      <th>5S_rRNA</th>\n",
       "      <td>0.0</td>\n",
       "      <td>0.0</td>\n",
       "      <td>0.0</td>\n",
       "      <td>0.0</td>\n",
       "      <td>0.0</td>\n",
       "      <td>0.0</td>\n",
       "      <td>0.0</td>\n",
       "      <td>0.0</td>\n",
       "      <td>0.0</td>\n",
       "      <td>0.0</td>\n",
       "      <td>...</td>\n",
       "      <td>0.0</td>\n",
       "      <td>0.0</td>\n",
       "      <td>0.0</td>\n",
       "      <td>0.0</td>\n",
       "      <td>0.0</td>\n",
       "      <td>0.0</td>\n",
       "      <td>0.0</td>\n",
       "      <td>0.0</td>\n",
       "      <td>0.0</td>\n",
       "      <td>0.0</td>\n",
       "    </tr>\n",
       "    <tr>\n",
       "      <th>A1BG</th>\n",
       "      <td>0.0</td>\n",
       "      <td>0.0</td>\n",
       "      <td>0.0</td>\n",
       "      <td>0.0</td>\n",
       "      <td>1.0</td>\n",
       "      <td>2.0</td>\n",
       "      <td>1.0</td>\n",
       "      <td>1.0</td>\n",
       "      <td>0.0</td>\n",
       "      <td>1.0</td>\n",
       "      <td>...</td>\n",
       "      <td>0.0</td>\n",
       "      <td>0.0</td>\n",
       "      <td>0.0</td>\n",
       "      <td>0.0</td>\n",
       "      <td>0.0</td>\n",
       "      <td>0.0</td>\n",
       "      <td>0.0</td>\n",
       "      <td>0.0</td>\n",
       "      <td>0.0</td>\n",
       "      <td>0.0</td>\n",
       "    </tr>\n",
       "    <tr>\n",
       "      <th>A1BG-AS1</th>\n",
       "      <td>0.0</td>\n",
       "      <td>0.0</td>\n",
       "      <td>0.0</td>\n",
       "      <td>1.0</td>\n",
       "      <td>0.0</td>\n",
       "      <td>0.0</td>\n",
       "      <td>0.0</td>\n",
       "      <td>0.0</td>\n",
       "      <td>0.0</td>\n",
       "      <td>0.0</td>\n",
       "      <td>...</td>\n",
       "      <td>0.0</td>\n",
       "      <td>0.0</td>\n",
       "      <td>0.0</td>\n",
       "      <td>0.0</td>\n",
       "      <td>0.0</td>\n",
       "      <td>0.0</td>\n",
       "      <td>0.0</td>\n",
       "      <td>0.0</td>\n",
       "      <td>0.0</td>\n",
       "      <td>0.0</td>\n",
       "    </tr>\n",
       "    <tr>\n",
       "      <th>A1CF</th>\n",
       "      <td>0.0</td>\n",
       "      <td>0.0</td>\n",
       "      <td>0.0</td>\n",
       "      <td>0.0</td>\n",
       "      <td>0.0</td>\n",
       "      <td>0.0</td>\n",
       "      <td>0.0</td>\n",
       "      <td>0.0</td>\n",
       "      <td>0.0</td>\n",
       "      <td>0.0</td>\n",
       "      <td>...</td>\n",
       "      <td>0.0</td>\n",
       "      <td>0.0</td>\n",
       "      <td>0.0</td>\n",
       "      <td>0.0</td>\n",
       "      <td>0.0</td>\n",
       "      <td>0.0</td>\n",
       "      <td>0.0</td>\n",
       "      <td>0.0</td>\n",
       "      <td>0.0</td>\n",
       "      <td>0.0</td>\n",
       "    </tr>\n",
       "    <tr>\n",
       "      <th>A2M</th>\n",
       "      <td>0.0</td>\n",
       "      <td>0.0</td>\n",
       "      <td>0.0</td>\n",
       "      <td>0.0</td>\n",
       "      <td>0.0</td>\n",
       "      <td>0.0</td>\n",
       "      <td>0.0</td>\n",
       "      <td>0.0</td>\n",
       "      <td>0.0</td>\n",
       "      <td>0.0</td>\n",
       "      <td>...</td>\n",
       "      <td>0.0</td>\n",
       "      <td>0.0</td>\n",
       "      <td>0.0</td>\n",
       "      <td>0.0</td>\n",
       "      <td>0.0</td>\n",
       "      <td>0.0</td>\n",
       "      <td>0.0</td>\n",
       "      <td>0.0</td>\n",
       "      <td>0.0</td>\n",
       "      <td>0.0</td>\n",
       "    </tr>\n",
       "  </tbody>\n",
       "</table>\n",
       "<p>5 rows × 12000 columns</p>\n",
       "</div>"
      ],
      "text/plain": [
       "          FBWT2_CAGGCATCTCCG  FBWT2_TCACCAGTCTCG  FBWT2_CCCGAGTCATAC  \\\n",
       "GENE                                                                   \n",
       "5S_rRNA                  0.0                 0.0                 0.0   \n",
       "A1BG                     0.0                 0.0                 0.0   \n",
       "A1BG-AS1                 0.0                 0.0                 0.0   \n",
       "A1CF                     0.0                 0.0                 0.0   \n",
       "A2M                      0.0                 0.0                 0.0   \n",
       "\n",
       "          FBWT2_CGCTTACGTCTT  FBWT2_TTCCATATAGCT  FBWT2_TCCCGACCATAA  \\\n",
       "GENE                                                                   \n",
       "5S_rRNA                  0.0                 0.0                 0.0   \n",
       "A1BG                     0.0                 1.0                 2.0   \n",
       "A1BG-AS1                 1.0                 0.0                 0.0   \n",
       "A1CF                     0.0                 0.0                 0.0   \n",
       "A2M                      0.0                 0.0                 0.0   \n",
       "\n",
       "          FBWT2_TAGTGATTATCA  FBWT2_GCCTCCATCGTT  FBWT2_GTACGATCAAGC  \\\n",
       "GENE                                                                   \n",
       "5S_rRNA                  0.0                 0.0                 0.0   \n",
       "A1BG                     1.0                 1.0                 0.0   \n",
       "A1BG-AS1                 0.0                 0.0                 0.0   \n",
       "A1CF                     0.0                 0.0                 0.0   \n",
       "A2M                      0.0                 0.0                 0.0   \n",
       "\n",
       "          FBWT2_TAAACGTCACGG         ...           FBIVS2_CTGTGACTATTG  \\\n",
       "GENE                                 ...                                 \n",
       "5S_rRNA                  0.0         ...                           0.0   \n",
       "A1BG                     1.0         ...                           0.0   \n",
       "A1BG-AS1                 0.0         ...                           0.0   \n",
       "A1CF                     0.0         ...                           0.0   \n",
       "A2M                      0.0         ...                           0.0   \n",
       "\n",
       "          FBIVS2_GTAGAGGTCCCT  FBIVS2_TCAACAAATTCT  FBIVS2_TCCTACGAGAGC  \\\n",
       "GENE                                                                      \n",
       "5S_rRNA                   0.0                  0.0                  0.0   \n",
       "A1BG                      0.0                  0.0                  0.0   \n",
       "A1BG-AS1                  0.0                  0.0                  0.0   \n",
       "A1CF                      0.0                  0.0                  0.0   \n",
       "A2M                       0.0                  0.0                  0.0   \n",
       "\n",
       "          FBIVS2_CGGGATCATCAA  FBIVS2_GCGATAATCTGG  FBIVS2_GATTATCTACTT  \\\n",
       "GENE                                                                      \n",
       "5S_rRNA                   0.0                  0.0                  0.0   \n",
       "A1BG                      0.0                  0.0                  0.0   \n",
       "A1BG-AS1                  0.0                  0.0                  0.0   \n",
       "A1CF                      0.0                  0.0                  0.0   \n",
       "A2M                       0.0                  0.0                  0.0   \n",
       "\n",
       "          FBIVS2_GATTCAAACTTG  FBIVS2_TGCTGAATATTG  FBIVS2_AGTATATTTACT  \n",
       "GENE                                                                     \n",
       "5S_rRNA                   0.0                  0.0                  0.0  \n",
       "A1BG                      0.0                  0.0                  0.0  \n",
       "A1BG-AS1                  0.0                  0.0                  0.0  \n",
       "A1CF                      0.0                  0.0                  0.0  \n",
       "A2M                       0.0                  0.0                  0.0  \n",
       "\n",
       "[5 rows x 12000 columns]"
      ]
     },
     "execution_count": 5,
     "metadata": {},
     "output_type": "execute_result"
    }
   ],
   "source": [
    "#Store the dataframe with the name raw_counts\n",
    "raw_counts = pd.read_csv(data_dir+\"matrix_all.csv\", index_col=0)\n",
    "\n",
    "#Print the size of the dataframe (number of rows and columns)\n",
    "#look at the dimensions of the dataframe and show the first 5 rows\n",
    "print(raw_counts.shape)\n",
    "raw_counts.head()"
   ]
  },
  {
   "cell_type": "code",
   "execution_count": 6,
   "metadata": {},
   "outputs": [
    {
     "data": {
      "text/plain": [
       "FBWT2_CAGGCATCTCCG    4111\n",
       "FBWT2_TCACCAGTCTCG    4107\n",
       "FBWT2_CCCGAGTCATAC    4253\n",
       "FBWT2_CGCTTACGTCTT    4458\n",
       "FBWT2_TTCCATATAGCT    4418\n",
       "dtype: int64"
      ]
     },
     "execution_count": 6,
     "metadata": {},
     "output_type": "execute_result"
    }
   ],
   "source": [
    "genes_detected_per_cell = (raw_counts > 0).sum()\n",
    "#makes true/false array and sums the non zero values for each row (= cell barcodes)\n",
    "genes_detected_per_cell.head()"
   ]
  },
  {
   "cell_type": "code",
   "execution_count": 7,
   "metadata": {},
   "outputs": [
    {
     "name": "stdout",
     "output_type": "stream",
     "text": [
      "3229\n",
      "5103\n",
      "5882\n"
     ]
    },
    {
     "data": {
      "text/plain": [
       "7213"
      ]
     },
     "execution_count": 7,
     "metadata": {},
     "output_type": "execute_result"
    }
   ],
   "source": [
    "#How many cells express at least this number of cells\n",
    "print((genes_detected_per_cell > 1500).sum())\n",
    "print((genes_detected_per_cell > 1000).sum())\n",
    "print((genes_detected_per_cell > 800).sum())\n",
    "(genes_detected_per_cell > 500).sum()"
   ]
  },
  {
   "cell_type": "code",
   "execution_count": 8,
   "metadata": {},
   "outputs": [
    {
     "data": {
      "text/plain": [
       "0"
      ]
     },
     "execution_count": 8,
     "metadata": {},
     "output_type": "execute_result"
    }
   ],
   "source": [
    "genes_detected_per_cell.min()\n",
    "#the lowest detected gene number per cell is 0 genes. We overestimated the number of cells per sample\n",
    "#during dropseqtools processing to not lose any cells. So now we have to filter."
   ]
  },
  {
   "cell_type": "code",
   "execution_count": 9,
   "metadata": {},
   "outputs": [],
   "source": [
    "#select cells to keep based on number of genes detected per cell:\n",
    "cells_to_keep = genes_detected_per_cell > 800"
   ]
  },
  {
   "cell_type": "code",
   "execution_count": 10,
   "metadata": {},
   "outputs": [
    {
     "name": "stdout",
     "output_type": "stream",
     "text": [
      "(23049, 5882)\n"
     ]
    },
    {
     "data": {
      "text/html": [
       "<div>\n",
       "<style scoped>\n",
       "    .dataframe tbody tr th:only-of-type {\n",
       "        vertical-align: middle;\n",
       "    }\n",
       "\n",
       "    .dataframe tbody tr th {\n",
       "        vertical-align: top;\n",
       "    }\n",
       "\n",
       "    .dataframe thead th {\n",
       "        text-align: right;\n",
       "    }\n",
       "</style>\n",
       "<table border=\"1\" class=\"dataframe\">\n",
       "  <thead>\n",
       "    <tr style=\"text-align: right;\">\n",
       "      <th></th>\n",
       "      <th>FBWT2_CAGGCATCTCCG</th>\n",
       "      <th>FBWT2_TCACCAGTCTCG</th>\n",
       "      <th>FBWT2_CCCGAGTCATAC</th>\n",
       "      <th>FBWT2_CGCTTACGTCTT</th>\n",
       "      <th>FBWT2_TTCCATATAGCT</th>\n",
       "      <th>FBWT2_TCCCGACCATAA</th>\n",
       "      <th>FBWT2_TAGTGATTATCA</th>\n",
       "      <th>FBWT2_GCCTCCATCGTT</th>\n",
       "      <th>FBWT2_GTACGATCAAGC</th>\n",
       "      <th>FBWT2_TAAACGTCACGG</th>\n",
       "      <th>...</th>\n",
       "      <th>FBIVS2_CGTTCGAGACCC</th>\n",
       "      <th>FBIVS2_ATACGCTCCCCA</th>\n",
       "      <th>FBIVS2_AGTGGTTTGTGG</th>\n",
       "      <th>FBIVS2_TTCGGACCGGTC</th>\n",
       "      <th>FBIVS2_AATGCGGCAGTA</th>\n",
       "      <th>FBIVS2_TATAGTATAAAG</th>\n",
       "      <th>FBIVS2_CAACAGGGTTCG</th>\n",
       "      <th>FBIVS2_ACGGGTAGTCTA</th>\n",
       "      <th>FBIVS2_GGGCGCGGTCTG</th>\n",
       "      <th>FBIVS2_AGGCATTATCCT</th>\n",
       "    </tr>\n",
       "    <tr>\n",
       "      <th>GENE</th>\n",
       "      <th></th>\n",
       "      <th></th>\n",
       "      <th></th>\n",
       "      <th></th>\n",
       "      <th></th>\n",
       "      <th></th>\n",
       "      <th></th>\n",
       "      <th></th>\n",
       "      <th></th>\n",
       "      <th></th>\n",
       "      <th></th>\n",
       "      <th></th>\n",
       "      <th></th>\n",
       "      <th></th>\n",
       "      <th></th>\n",
       "      <th></th>\n",
       "      <th></th>\n",
       "      <th></th>\n",
       "      <th></th>\n",
       "      <th></th>\n",
       "      <th></th>\n",
       "    </tr>\n",
       "  </thead>\n",
       "  <tbody>\n",
       "    <tr>\n",
       "      <th>5S_rRNA</th>\n",
       "      <td>0.0</td>\n",
       "      <td>0.0</td>\n",
       "      <td>0.0</td>\n",
       "      <td>0.0</td>\n",
       "      <td>0.0</td>\n",
       "      <td>0.0</td>\n",
       "      <td>0.0</td>\n",
       "      <td>0.0</td>\n",
       "      <td>0.0</td>\n",
       "      <td>0.0</td>\n",
       "      <td>...</td>\n",
       "      <td>0.0</td>\n",
       "      <td>0.0</td>\n",
       "      <td>0.0</td>\n",
       "      <td>0.0</td>\n",
       "      <td>0.0</td>\n",
       "      <td>0.0</td>\n",
       "      <td>0.0</td>\n",
       "      <td>0.0</td>\n",
       "      <td>0.0</td>\n",
       "      <td>0.0</td>\n",
       "    </tr>\n",
       "    <tr>\n",
       "      <th>A1BG</th>\n",
       "      <td>0.0</td>\n",
       "      <td>0.0</td>\n",
       "      <td>0.0</td>\n",
       "      <td>0.0</td>\n",
       "      <td>1.0</td>\n",
       "      <td>2.0</td>\n",
       "      <td>1.0</td>\n",
       "      <td>1.0</td>\n",
       "      <td>0.0</td>\n",
       "      <td>1.0</td>\n",
       "      <td>...</td>\n",
       "      <td>0.0</td>\n",
       "      <td>0.0</td>\n",
       "      <td>0.0</td>\n",
       "      <td>0.0</td>\n",
       "      <td>0.0</td>\n",
       "      <td>1.0</td>\n",
       "      <td>0.0</td>\n",
       "      <td>0.0</td>\n",
       "      <td>0.0</td>\n",
       "      <td>1.0</td>\n",
       "    </tr>\n",
       "    <tr>\n",
       "      <th>A1BG-AS1</th>\n",
       "      <td>0.0</td>\n",
       "      <td>0.0</td>\n",
       "      <td>0.0</td>\n",
       "      <td>1.0</td>\n",
       "      <td>0.0</td>\n",
       "      <td>0.0</td>\n",
       "      <td>0.0</td>\n",
       "      <td>0.0</td>\n",
       "      <td>0.0</td>\n",
       "      <td>0.0</td>\n",
       "      <td>...</td>\n",
       "      <td>0.0</td>\n",
       "      <td>0.0</td>\n",
       "      <td>0.0</td>\n",
       "      <td>0.0</td>\n",
       "      <td>0.0</td>\n",
       "      <td>0.0</td>\n",
       "      <td>0.0</td>\n",
       "      <td>0.0</td>\n",
       "      <td>0.0</td>\n",
       "      <td>0.0</td>\n",
       "    </tr>\n",
       "    <tr>\n",
       "      <th>A1CF</th>\n",
       "      <td>0.0</td>\n",
       "      <td>0.0</td>\n",
       "      <td>0.0</td>\n",
       "      <td>0.0</td>\n",
       "      <td>0.0</td>\n",
       "      <td>0.0</td>\n",
       "      <td>0.0</td>\n",
       "      <td>0.0</td>\n",
       "      <td>0.0</td>\n",
       "      <td>0.0</td>\n",
       "      <td>...</td>\n",
       "      <td>0.0</td>\n",
       "      <td>0.0</td>\n",
       "      <td>0.0</td>\n",
       "      <td>0.0</td>\n",
       "      <td>0.0</td>\n",
       "      <td>0.0</td>\n",
       "      <td>0.0</td>\n",
       "      <td>0.0</td>\n",
       "      <td>0.0</td>\n",
       "      <td>0.0</td>\n",
       "    </tr>\n",
       "    <tr>\n",
       "      <th>A2M</th>\n",
       "      <td>0.0</td>\n",
       "      <td>0.0</td>\n",
       "      <td>0.0</td>\n",
       "      <td>0.0</td>\n",
       "      <td>0.0</td>\n",
       "      <td>0.0</td>\n",
       "      <td>0.0</td>\n",
       "      <td>0.0</td>\n",
       "      <td>0.0</td>\n",
       "      <td>0.0</td>\n",
       "      <td>...</td>\n",
       "      <td>0.0</td>\n",
       "      <td>0.0</td>\n",
       "      <td>0.0</td>\n",
       "      <td>0.0</td>\n",
       "      <td>0.0</td>\n",
       "      <td>0.0</td>\n",
       "      <td>0.0</td>\n",
       "      <td>0.0</td>\n",
       "      <td>0.0</td>\n",
       "      <td>0.0</td>\n",
       "    </tr>\n",
       "  </tbody>\n",
       "</table>\n",
       "<p>5 rows × 5882 columns</p>\n",
       "</div>"
      ],
      "text/plain": [
       "          FBWT2_CAGGCATCTCCG  FBWT2_TCACCAGTCTCG  FBWT2_CCCGAGTCATAC  \\\n",
       "GENE                                                                   \n",
       "5S_rRNA                  0.0                 0.0                 0.0   \n",
       "A1BG                     0.0                 0.0                 0.0   \n",
       "A1BG-AS1                 0.0                 0.0                 0.0   \n",
       "A1CF                     0.0                 0.0                 0.0   \n",
       "A2M                      0.0                 0.0                 0.0   \n",
       "\n",
       "          FBWT2_CGCTTACGTCTT  FBWT2_TTCCATATAGCT  FBWT2_TCCCGACCATAA  \\\n",
       "GENE                                                                   \n",
       "5S_rRNA                  0.0                 0.0                 0.0   \n",
       "A1BG                     0.0                 1.0                 2.0   \n",
       "A1BG-AS1                 1.0                 0.0                 0.0   \n",
       "A1CF                     0.0                 0.0                 0.0   \n",
       "A2M                      0.0                 0.0                 0.0   \n",
       "\n",
       "          FBWT2_TAGTGATTATCA  FBWT2_GCCTCCATCGTT  FBWT2_GTACGATCAAGC  \\\n",
       "GENE                                                                   \n",
       "5S_rRNA                  0.0                 0.0                 0.0   \n",
       "A1BG                     1.0                 1.0                 0.0   \n",
       "A1BG-AS1                 0.0                 0.0                 0.0   \n",
       "A1CF                     0.0                 0.0                 0.0   \n",
       "A2M                      0.0                 0.0                 0.0   \n",
       "\n",
       "          FBWT2_TAAACGTCACGG         ...           FBIVS2_CGTTCGAGACCC  \\\n",
       "GENE                                 ...                                 \n",
       "5S_rRNA                  0.0         ...                           0.0   \n",
       "A1BG                     1.0         ...                           0.0   \n",
       "A1BG-AS1                 0.0         ...                           0.0   \n",
       "A1CF                     0.0         ...                           0.0   \n",
       "A2M                      0.0         ...                           0.0   \n",
       "\n",
       "          FBIVS2_ATACGCTCCCCA  FBIVS2_AGTGGTTTGTGG  FBIVS2_TTCGGACCGGTC  \\\n",
       "GENE                                                                      \n",
       "5S_rRNA                   0.0                  0.0                  0.0   \n",
       "A1BG                      0.0                  0.0                  0.0   \n",
       "A1BG-AS1                  0.0                  0.0                  0.0   \n",
       "A1CF                      0.0                  0.0                  0.0   \n",
       "A2M                       0.0                  0.0                  0.0   \n",
       "\n",
       "          FBIVS2_AATGCGGCAGTA  FBIVS2_TATAGTATAAAG  FBIVS2_CAACAGGGTTCG  \\\n",
       "GENE                                                                      \n",
       "5S_rRNA                   0.0                  0.0                  0.0   \n",
       "A1BG                      0.0                  1.0                  0.0   \n",
       "A1BG-AS1                  0.0                  0.0                  0.0   \n",
       "A1CF                      0.0                  0.0                  0.0   \n",
       "A2M                       0.0                  0.0                  0.0   \n",
       "\n",
       "          FBIVS2_ACGGGTAGTCTA  FBIVS2_GGGCGCGGTCTG  FBIVS2_AGGCATTATCCT  \n",
       "GENE                                                                     \n",
       "5S_rRNA                   0.0                  0.0                  0.0  \n",
       "A1BG                      0.0                  0.0                  1.0  \n",
       "A1BG-AS1                  0.0                  0.0                  0.0  \n",
       "A1CF                      0.0                  0.0                  0.0  \n",
       "A2M                       0.0                  0.0                  0.0  \n",
       "\n",
       "[5 rows x 5882 columns]"
      ]
     },
     "execution_count": 10,
     "metadata": {},
     "output_type": "execute_result"
    }
   ],
   "source": [
    "counts_filtered_by_cell = raw_counts.T.loc[cells_to_keep].T\n",
    "#switches rows and columns (because.loc operates on the index), subsets to cells to keep and switches rows and columns back\n",
    "#.loc searches by the index. If true, it keeps it, if false it discards it\n",
    "print(counts_filtered_by_cell.shape)\n",
    "counts_filtered_by_cell.head()"
   ]
  },
  {
   "cell_type": "code",
   "execution_count": 11,
   "metadata": {},
   "outputs": [
    {
     "data": {
      "text/plain": [
       "5882"
      ]
     },
     "execution_count": 11,
     "metadata": {},
     "output_type": "execute_result"
    }
   ],
   "source": [
    "#caluculate total number of cells\n",
    "num_cells = len(counts_filtered_by_cell.columns)\n",
    "num_cells"
   ]
  },
  {
   "cell_type": "code",
   "execution_count": 12,
   "metadata": {},
   "outputs": [
    {
     "name": "stdout",
     "output_type": "stream",
     "text": [
      "12213\n",
      "7567\n"
     ]
    },
    {
     "data": {
      "text/plain": [
       "4965"
      ]
     },
     "execution_count": 12,
     "metadata": {},
     "output_type": "execute_result"
    }
   ],
   "source": [
    "#filter out genes that are expressed in less than x% of the cells\n",
    "#again be careful about what treshold you set for your experiment\n",
    "genes_to_keep_1p = (counts_filtered_by_cell > 0).sum(axis=1) > 0.01*num_cells\n",
    "genes_to_keep_5p = (counts_filtered_by_cell > 0).sum(axis=1) > 0.05*num_cells\n",
    "genes_to_keep_10p = (counts_filtered_by_cell > 0).sum(axis=1) > 0.1*num_cells\n",
    "\n",
    "print(genes_to_keep_1p.sum())\n",
    "print(genes_to_keep_5p.sum())\n",
    "genes_to_keep_10p.sum()"
   ]
  },
  {
   "cell_type": "code",
   "execution_count": 13,
   "metadata": {},
   "outputs": [
    {
     "name": "stdout",
     "output_type": "stream",
     "text": [
      "(12213, 5882)\n"
     ]
    },
    {
     "data": {
      "text/html": [
       "<div>\n",
       "<style scoped>\n",
       "    .dataframe tbody tr th:only-of-type {\n",
       "        vertical-align: middle;\n",
       "    }\n",
       "\n",
       "    .dataframe tbody tr th {\n",
       "        vertical-align: top;\n",
       "    }\n",
       "\n",
       "    .dataframe thead th {\n",
       "        text-align: right;\n",
       "    }\n",
       "</style>\n",
       "<table border=\"1\" class=\"dataframe\">\n",
       "  <thead>\n",
       "    <tr style=\"text-align: right;\">\n",
       "      <th></th>\n",
       "      <th>FBWT2_CAGGCATCTCCG</th>\n",
       "      <th>FBWT2_TCACCAGTCTCG</th>\n",
       "      <th>FBWT2_CCCGAGTCATAC</th>\n",
       "      <th>FBWT2_CGCTTACGTCTT</th>\n",
       "      <th>FBWT2_TTCCATATAGCT</th>\n",
       "      <th>FBWT2_TCCCGACCATAA</th>\n",
       "      <th>FBWT2_TAGTGATTATCA</th>\n",
       "      <th>FBWT2_GCCTCCATCGTT</th>\n",
       "      <th>FBWT2_GTACGATCAAGC</th>\n",
       "      <th>FBWT2_TAAACGTCACGG</th>\n",
       "      <th>...</th>\n",
       "      <th>FBIVS2_CGTTCGAGACCC</th>\n",
       "      <th>FBIVS2_ATACGCTCCCCA</th>\n",
       "      <th>FBIVS2_AGTGGTTTGTGG</th>\n",
       "      <th>FBIVS2_TTCGGACCGGTC</th>\n",
       "      <th>FBIVS2_AATGCGGCAGTA</th>\n",
       "      <th>FBIVS2_TATAGTATAAAG</th>\n",
       "      <th>FBIVS2_CAACAGGGTTCG</th>\n",
       "      <th>FBIVS2_ACGGGTAGTCTA</th>\n",
       "      <th>FBIVS2_GGGCGCGGTCTG</th>\n",
       "      <th>FBIVS2_AGGCATTATCCT</th>\n",
       "    </tr>\n",
       "    <tr>\n",
       "      <th>GENE</th>\n",
       "      <th></th>\n",
       "      <th></th>\n",
       "      <th></th>\n",
       "      <th></th>\n",
       "      <th></th>\n",
       "      <th></th>\n",
       "      <th></th>\n",
       "      <th></th>\n",
       "      <th></th>\n",
       "      <th></th>\n",
       "      <th></th>\n",
       "      <th></th>\n",
       "      <th></th>\n",
       "      <th></th>\n",
       "      <th></th>\n",
       "      <th></th>\n",
       "      <th></th>\n",
       "      <th></th>\n",
       "      <th></th>\n",
       "      <th></th>\n",
       "      <th></th>\n",
       "    </tr>\n",
       "  </thead>\n",
       "  <tbody>\n",
       "    <tr>\n",
       "      <th>A1BG</th>\n",
       "      <td>0.0</td>\n",
       "      <td>0.0</td>\n",
       "      <td>0.0</td>\n",
       "      <td>0.0</td>\n",
       "      <td>1.0</td>\n",
       "      <td>2.0</td>\n",
       "      <td>1.0</td>\n",
       "      <td>1.0</td>\n",
       "      <td>0.0</td>\n",
       "      <td>1.0</td>\n",
       "      <td>...</td>\n",
       "      <td>0.0</td>\n",
       "      <td>0.0</td>\n",
       "      <td>0.0</td>\n",
       "      <td>0.0</td>\n",
       "      <td>0.0</td>\n",
       "      <td>1.0</td>\n",
       "      <td>0.0</td>\n",
       "      <td>0.0</td>\n",
       "      <td>0.0</td>\n",
       "      <td>1.0</td>\n",
       "    </tr>\n",
       "    <tr>\n",
       "      <th>A1BG-AS1</th>\n",
       "      <td>0.0</td>\n",
       "      <td>0.0</td>\n",
       "      <td>0.0</td>\n",
       "      <td>1.0</td>\n",
       "      <td>0.0</td>\n",
       "      <td>0.0</td>\n",
       "      <td>0.0</td>\n",
       "      <td>0.0</td>\n",
       "      <td>0.0</td>\n",
       "      <td>0.0</td>\n",
       "      <td>...</td>\n",
       "      <td>0.0</td>\n",
       "      <td>0.0</td>\n",
       "      <td>0.0</td>\n",
       "      <td>0.0</td>\n",
       "      <td>0.0</td>\n",
       "      <td>0.0</td>\n",
       "      <td>0.0</td>\n",
       "      <td>0.0</td>\n",
       "      <td>0.0</td>\n",
       "      <td>0.0</td>\n",
       "    </tr>\n",
       "    <tr>\n",
       "      <th>AAAS</th>\n",
       "      <td>0.0</td>\n",
       "      <td>0.0</td>\n",
       "      <td>0.0</td>\n",
       "      <td>0.0</td>\n",
       "      <td>0.0</td>\n",
       "      <td>0.0</td>\n",
       "      <td>0.0</td>\n",
       "      <td>0.0</td>\n",
       "      <td>1.0</td>\n",
       "      <td>0.0</td>\n",
       "      <td>...</td>\n",
       "      <td>0.0</td>\n",
       "      <td>0.0</td>\n",
       "      <td>1.0</td>\n",
       "      <td>0.0</td>\n",
       "      <td>0.0</td>\n",
       "      <td>0.0</td>\n",
       "      <td>0.0</td>\n",
       "      <td>0.0</td>\n",
       "      <td>0.0</td>\n",
       "      <td>0.0</td>\n",
       "    </tr>\n",
       "    <tr>\n",
       "      <th>AACS</th>\n",
       "      <td>0.0</td>\n",
       "      <td>0.0</td>\n",
       "      <td>1.0</td>\n",
       "      <td>0.0</td>\n",
       "      <td>0.0</td>\n",
       "      <td>0.0</td>\n",
       "      <td>0.0</td>\n",
       "      <td>0.0</td>\n",
       "      <td>0.0</td>\n",
       "      <td>1.0</td>\n",
       "      <td>...</td>\n",
       "      <td>0.0</td>\n",
       "      <td>0.0</td>\n",
       "      <td>0.0</td>\n",
       "      <td>0.0</td>\n",
       "      <td>0.0</td>\n",
       "      <td>0.0</td>\n",
       "      <td>0.0</td>\n",
       "      <td>0.0</td>\n",
       "      <td>0.0</td>\n",
       "      <td>1.0</td>\n",
       "    </tr>\n",
       "    <tr>\n",
       "      <th>AADAT</th>\n",
       "      <td>1.0</td>\n",
       "      <td>0.0</td>\n",
       "      <td>1.0</td>\n",
       "      <td>3.0</td>\n",
       "      <td>1.0</td>\n",
       "      <td>1.0</td>\n",
       "      <td>0.0</td>\n",
       "      <td>0.0</td>\n",
       "      <td>0.0</td>\n",
       "      <td>0.0</td>\n",
       "      <td>...</td>\n",
       "      <td>0.0</td>\n",
       "      <td>0.0</td>\n",
       "      <td>0.0</td>\n",
       "      <td>0.0</td>\n",
       "      <td>0.0</td>\n",
       "      <td>0.0</td>\n",
       "      <td>0.0</td>\n",
       "      <td>0.0</td>\n",
       "      <td>0.0</td>\n",
       "      <td>0.0</td>\n",
       "    </tr>\n",
       "  </tbody>\n",
       "</table>\n",
       "<p>5 rows × 5882 columns</p>\n",
       "</div>"
      ],
      "text/plain": [
       "          FBWT2_CAGGCATCTCCG  FBWT2_TCACCAGTCTCG  FBWT2_CCCGAGTCATAC  \\\n",
       "GENE                                                                   \n",
       "A1BG                     0.0                 0.0                 0.0   \n",
       "A1BG-AS1                 0.0                 0.0                 0.0   \n",
       "AAAS                     0.0                 0.0                 0.0   \n",
       "AACS                     0.0                 0.0                 1.0   \n",
       "AADAT                    1.0                 0.0                 1.0   \n",
       "\n",
       "          FBWT2_CGCTTACGTCTT  FBWT2_TTCCATATAGCT  FBWT2_TCCCGACCATAA  \\\n",
       "GENE                                                                   \n",
       "A1BG                     0.0                 1.0                 2.0   \n",
       "A1BG-AS1                 1.0                 0.0                 0.0   \n",
       "AAAS                     0.0                 0.0                 0.0   \n",
       "AACS                     0.0                 0.0                 0.0   \n",
       "AADAT                    3.0                 1.0                 1.0   \n",
       "\n",
       "          FBWT2_TAGTGATTATCA  FBWT2_GCCTCCATCGTT  FBWT2_GTACGATCAAGC  \\\n",
       "GENE                                                                   \n",
       "A1BG                     1.0                 1.0                 0.0   \n",
       "A1BG-AS1                 0.0                 0.0                 0.0   \n",
       "AAAS                     0.0                 0.0                 1.0   \n",
       "AACS                     0.0                 0.0                 0.0   \n",
       "AADAT                    0.0                 0.0                 0.0   \n",
       "\n",
       "          FBWT2_TAAACGTCACGG         ...           FBIVS2_CGTTCGAGACCC  \\\n",
       "GENE                                 ...                                 \n",
       "A1BG                     1.0         ...                           0.0   \n",
       "A1BG-AS1                 0.0         ...                           0.0   \n",
       "AAAS                     0.0         ...                           0.0   \n",
       "AACS                     1.0         ...                           0.0   \n",
       "AADAT                    0.0         ...                           0.0   \n",
       "\n",
       "          FBIVS2_ATACGCTCCCCA  FBIVS2_AGTGGTTTGTGG  FBIVS2_TTCGGACCGGTC  \\\n",
       "GENE                                                                      \n",
       "A1BG                      0.0                  0.0                  0.0   \n",
       "A1BG-AS1                  0.0                  0.0                  0.0   \n",
       "AAAS                      0.0                  1.0                  0.0   \n",
       "AACS                      0.0                  0.0                  0.0   \n",
       "AADAT                     0.0                  0.0                  0.0   \n",
       "\n",
       "          FBIVS2_AATGCGGCAGTA  FBIVS2_TATAGTATAAAG  FBIVS2_CAACAGGGTTCG  \\\n",
       "GENE                                                                      \n",
       "A1BG                      0.0                  1.0                  0.0   \n",
       "A1BG-AS1                  0.0                  0.0                  0.0   \n",
       "AAAS                      0.0                  0.0                  0.0   \n",
       "AACS                      0.0                  0.0                  0.0   \n",
       "AADAT                     0.0                  0.0                  0.0   \n",
       "\n",
       "          FBIVS2_ACGGGTAGTCTA  FBIVS2_GGGCGCGGTCTG  FBIVS2_AGGCATTATCCT  \n",
       "GENE                                                                     \n",
       "A1BG                      0.0                  0.0                  1.0  \n",
       "A1BG-AS1                  0.0                  0.0                  0.0  \n",
       "AAAS                      0.0                  0.0                  0.0  \n",
       "AACS                      0.0                  0.0                  1.0  \n",
       "AADAT                     0.0                  0.0                  0.0  \n",
       "\n",
       "[5 rows x 5882 columns]"
      ]
     },
     "execution_count": 13,
     "metadata": {},
     "output_type": "execute_result"
    }
   ],
   "source": [
    "counts_filt_by_cell_and_genes = counts_filtered_by_cell.loc[genes_to_keep_1p]\n",
    "print(counts_filt_by_cell_and_genes.shape)\n",
    "counts_filt_by_cell_and_genes.head()"
   ]
  },
  {
   "cell_type": "code",
   "execution_count": 14,
   "metadata": {},
   "outputs": [],
   "source": [
    "save_dir = \"/home/ucsd-train13/scratch/projects/organoids/results/processed_files/\"\n",
    "counts_filt_by_cell_and_genes.to_csv(save_dir+\"counts_filt_800genes_5882cells.csv\")"
   ]
  },
  {
   "cell_type": "code",
   "execution_count": 15,
   "metadata": {},
   "outputs": [
    {
     "data": {
      "text/plain": [
       "(0, 25000)"
      ]
     },
     "execution_count": 15,
     "metadata": {},
     "output_type": "execute_result"
    },
    {
     "data": {
      "image/png": "[encoded data removed]",
      "text/plain": [
       "<Figure size 432x288 with 1 Axes>"
      ]
     },
     "metadata": {},
     "output_type": "display_data"
    }
   ],
   "source": [
    "sns.boxplot(counts_filt_by_cell_and_genes.sum().values, orient = 'v')\n",
    "plt.ylabel(\"number of UMIs counted\")\n",
    "plt.title(\"distribution of UMI counts per cell barcode\")\n",
    "plt.ylim([0,25000])\n",
    "#boxplot"
   ]
  },
  {
   "cell_type": "code",
   "execution_count": 21,
   "metadata": {},
   "outputs": [
    {
     "data": {
      "text/plain": [
       "5882"
      ]
     },
     "execution_count": 21,
     "metadata": {},
     "output_type": "execute_result"
    }
   ],
   "source": [
    "#calculate mean number of UMIs per cell\n",
    "num_cells_filtered = len(counts_filt_by_cell_and_genes.columns)\n",
    "num_cells_filtered"
   ]
  },
  {
   "cell_type": "code",
   "execution_count": 26,
   "metadata": {},
   "outputs": [
    {
     "data": {
      "text/plain": [
       "3258.722543352601"
      ]
     },
     "execution_count": 26,
     "metadata": {},
     "output_type": "execute_result"
    }
   ],
   "source": [
    "UMIs_per_cell_filtered = counts_filt_by_cell_and_genes.sum(axis=0).mean()\n",
    "UMIs_per_cell_filtered"
   ]
  },
  {
   "cell_type": "code",
   "execution_count": 16,
   "metadata": {},
   "outputs": [
    {
     "data": {
      "text/plain": [
       "(0, 25000)"
      ]
     },
     "execution_count": 16,
     "metadata": {},
     "output_type": "execute_result"
    },
    {
     "data": {
      "image/png": "[encoded data removed]",
      "text/plain": [
       "<Figure size 432x288 with 1 Axes>"
      ]
     },
     "metadata": {},
     "output_type": "display_data"
    }
   ],
   "source": [
    "sns.stripplot(counts_filt_by_cell_and_genes.sum().values, orient = 'v', jitter=True)\n",
    "plt.ylabel(\"number of UMIs counted\")\n",
    "plt.title(\"distribution of UMI counts per cell barcode\")\n",
    "plt.ylim([0,25000])\n",
    "#jitterplot"
   ]
  },
  {
   "cell_type": "code",
   "execution_count": 19,
   "metadata": {},
   "outputs": [
    {
     "data": {
      "text/plain": [
       "(0, 25000)"
      ]
     },
     "execution_count": 19,
     "metadata": {},
     "output_type": "execute_result"
    },
    {
     "data": {
      "image/png": "[encoded data removed]",
      "text/plain": [
       "<Figure size 432x288 with 1 Axes>"
      ]
     },
     "metadata": {},
     "output_type": "display_data"
    }
   ],
   "source": [
    "sns.violinplot(counts_filt_by_cell_and_genes.sum(axis=0), orient='v')\n",
    "plt.ylabel(\"number of UMIs counted\")\n",
    "plt.title (\"distribution of UMI counts per cell barcode\")\n",
    "plt.ylim([0,25000])"
   ]
  },
  {
   "cell_type": "code",
   "execution_count": 27,
   "metadata": {},
   "outputs": [
    {
     "data": {
      "text/plain": [
       "(0, 10000)"
      ]
     },
     "execution_count": 27,
     "metadata": {},
     "output_type": "execute_result"
    },
    {
     "data": {
      "image/png": "[encoded data removed]",
      "text/plain": [
       "<Figure size 432x288 with 1 Axes>"
      ]
     },
     "metadata": {},
     "output_type": "display_data"
    }
   ],
   "source": [
    "sns.violinplot(counts_filt_by_cell_and_genes.sum(axis=0), orient='v')\n",
    "plt.ylabel(\"number of UMIs counted\")\n",
    "plt.title (\"distribution of UMI counts per cell barcode\")\n",
    "plt.ylim([0,10000])"
   ]
  },
  {
   "cell_type": "code",
   "execution_count": null,
   "metadata": {},
   "outputs": [],
   "source": []
  }
 ],
 "metadata": {
  "kernelspec": {
   "display_name": "py3_cshl",
   "language": "python",
   "name": "python3"
  },
  "language_info": {
   "codemirror_mode": {
    "name": "ipython",
    "version": 3
   },
   "file_extension": ".py",
   "mimetype": "text/x-python",
   "name": "python",
   "nbconvert_exporter": "python",
   "pygments_lexer": "ipython3",
   "version": "3.6.6"
  }
 },
 "nbformat": 4,
 "nbformat_minor": 2
}
